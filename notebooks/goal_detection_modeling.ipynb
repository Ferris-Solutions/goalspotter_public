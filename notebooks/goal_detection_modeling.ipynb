{
 "cells": [
  {
   "cell_type": "markdown",
   "metadata": {
    "id": "N4ugNxulKCKn"
   },
   "source": [
    "# Fine-Tuning the Sustainability Goal Detection Model"
   ]
  },
  {
   "cell_type": "markdown",
   "metadata": {
    "id": "rCZeBr3wKCKq"
   },
   "source": [
    "## === Setup ==="
   ]
  },
  {
   "cell_type": "markdown",
   "metadata": {
    "id": "GeON7yarKCKs"
   },
   "source": [
    "### Importing Libraries"
   ]
  },
  {
   "cell_type": "code",
   "execution_count": null,
   "metadata": {
    "colab": {
     "base_uri": "https://localhost:8080/"
    },
    "id": "4jpUBWcMKCKs",
    "outputId": "e3960e43-e427-4d9d-a0cf-be39eb4e9ffb"
   },
   "outputs": [],
   "source": [
    "import sys\n",
    "import pandas\n",
    "import plotly.io as pio\n",
    "import plotly.graph_objects as go\n",
    "import sklearn.model_selection\n",
    "\n",
    "sys.path.append(\"../source\")\n",
    "import data_preprocessing\n",
    "import transformer_model\n",
    "\n",
    "pandas.set_option(\"display.max_rows\", None)\n",
    "pandas.set_option(\"display.max_columns\", None)\n",
    "pandas.set_option(\"display.max_colwidth\", None)\n",
    "pio.renderers.default = \"iframe\""
   ]
  },
  {
   "cell_type": "markdown",
   "metadata": {
    "id": "lwSUJu8NKCKs"
   },
   "source": [
    "### Loading the Dataset"
   ]
  },
  {
   "cell_type": "code",
   "execution_count": null,
   "metadata": {
    "colab": {
     "base_uri": "https://localhost:8080/",
     "height": 206
    },
    "id": "T_AXL_SHKCKs",
    "outputId": "2c809c76-b6a3-4172-848f-190ff1a6366e"
   },
   "outputs": [],
   "source": [
    "df = pandas.read_csv(\"../datasets/sustainability_goals.csv\", low_memory=False)\n",
    "df = df.dropna(subset=[\"Text Blocks\", \"Goal\"])\n",
    "df = df.drop_duplicates(subset=[\"Text Blocks\"])\n",
    "\n",
    "print(\"Dataset Size:\", df.shape)\n",
    "print(\"The Number of Goals:\", df[\"Goal\"].sum())\n",
    "df.head()"
   ]
  },
  {
   "cell_type": "markdown",
   "metadata": {},
   "source": [
    "## === Data Preprocessing ==="
   ]
  },
  {
   "cell_type": "code",
   "execution_count": null,
   "metadata": {},
   "outputs": [],
   "source": [
    "df[\"text\"] = df[\"Text Blocks\"].copy()\n",
    "df[\"labels\"] = df[\"Goal\"].copy()\n",
    "target_values = [\"Not Goal\", \"Goal\"]\n",
    "\n",
    "sustainability_keywords = [\n",
    "    \"green\", \"environment\", \"carbon\", \"footprint\", \"co2\",  \"emission\", \"pollution\", \"recycle\", \"waste\", \"plant\", \"energy\", \"renewable\", \"water\", \"electricity\",\n",
    "    \"diversity\", \"employee\", \"women\", \"female\", \"human\", \"inclusion\", \"health\", \"safety\", \"security\",\n",
    "    # \"goal\", \"sustainable\", \"zero\", \"right\"\n",
    "    ]\n",
    "\n",
    "data_preprocessor = data_preprocessing.DataPreprocessing()\n",
    "# df = data_preprocessor.clean_text_blocks(df, \"text\", level=\"essential\")\n",
    "df = data_preprocessor.filter_text_blocks(df, \"text\", keep_only_size=(0, 300), keep_only_keywords=sustainability_keywords)\n",
    "\n",
    "print(\"Dataset Size:\", df.shape)\n",
    "df.head()"
   ]
  },
  {
   "cell_type": "code",
   "execution_count": null,
   "metadata": {
    "id": "Nr7VchzxKCKt"
   },
   "outputs": [],
   "source": [
    "tb_len = df[df[\"labels\"].notnull()][\"text\"].apply(len)\n",
    "fig = go.Figure(data=[go.Histogram(x=tb_len, nbinsx=1000)])\n",
    "fig.show()"
   ]
  },
  {
   "cell_type": "markdown",
   "metadata": {
    "id": "kCs2jBsZKCKv"
   },
   "source": [
    "## === Splitting the Dataset ==="
   ]
  },
  {
   "cell_type": "code",
   "execution_count": null,
   "metadata": {
    "colab": {
     "base_uri": "https://localhost:8080/"
    },
    "id": "8iaXenmTKCKv",
    "outputId": "c030f913-19eb-4240-9964-5be42a29aeb2"
   },
   "outputs": [],
   "source": [
    "df_train, df_test = sklearn.model_selection.train_test_split(\n",
    "    df,\n",
    "    test_size=0.2,\n",
    "    stratify=df[\"labels\"],\n",
    "    random_state=7\n",
    ")\n",
    "\n",
    "print(\"Train Set Size:\", df_train.shape)\n",
    "print(df_train[\"labels\"].value_counts())\n",
    "print(\"Test Set Size:\", df_test.shape)\n",
    "print(df_test[\"labels\"].value_counts())"
   ]
  },
  {
   "cell_type": "markdown",
   "metadata": {
    "id": "uIfCptkHKCKw"
   },
   "source": [
    "## === Training and Testing the Model ==="
   ]
  },
  {
   "cell_type": "code",
   "execution_count": null,
   "metadata": {
    "colab": {
     "base_uri": "https://localhost:8080/",
     "height": 1000
    },
    "id": "ooiNQXqr5BKC",
    "outputId": "0fd80b80-66ba-4d2b-bb26-e17ff950bc5b"
   },
   "outputs": [],
   "source": [
    "model = transformer_model.TextClassification(target_values, name=\"distilroberta-base\", epochs=3, learning_rate=5e-5, batch_size=16, \n",
    "                                             weight_decay=0.01, save=True, save_to=\"../models/goal-detection\")\n",
    "model.fit(df_train, df_test)"
   ]
  },
  {
   "cell_type": "markdown",
   "metadata": {},
   "source": [
    "## === Inference ==="
   ]
  },
  {
   "cell_type": "code",
   "execution_count": null,
   "metadata": {},
   "outputs": [],
   "source": [
    "model = transformer_model.TextClassification(target_values, name=\"distilroberta-base\", load_from=\"../models/goal-detection/distilroberta-base\")\n",
    "predictions = model.predict(df_test[\"text\"].tolist())\n",
    "df_test[\"Goal Score\"] = predictions[\"Goal\"].values\n",
    "df_test.sort_values(\"Goal Score\", ascending=False).head(20)"
   ]
  },
  {
   "cell_type": "code",
   "execution_count": null,
   "metadata": {},
   "outputs": [],
   "source": []
  }
 ],
 "metadata": {
  "accelerator": "GPU",
  "colab": {
   "gpuType": "T4",
   "provenance": []
  },
  "gpuClass": "standard",
  "kernelspec": {
   "display_name": "newenv",
   "language": "python",
   "name": "newenv"
  },
  "language_info": {
   "codemirror_mode": {
    "name": "ipython",
    "version": 3
   },
   "file_extension": ".py",
   "mimetype": "text/x-python",
   "name": "python",
   "nbconvert_exporter": "python",
   "pygments_lexer": "ipython3",
   "version": "3.8.16"
  }
 },
 "nbformat": 4,
 "nbformat_minor": 5
}
