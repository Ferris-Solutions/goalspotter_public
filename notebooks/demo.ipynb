{
 "cells": [
  {
   "cell_type": "markdown",
   "metadata": {},
   "source": [
    "# Automatic Sustainability Objective Detection Demo\n",
    "\n",
    "Given any sustainability report, we automatically detect objectives. The sustainability report could\n",
    "- be in any format (PDF, HTML, etc.).\n",
    "- have any length (a few to hundreds of pages).\n",
    "- be from any domain (pharmaceutical, electronics, etc.).\n",
    "\n",
    "For example, in this demo, we use a sustainability report located [here.](https://sustainability.aboutamazon.com/pdfBuilderDownload?name=sustainability-thinking-big-december-2019)"
   ]
  },
  {
   "cell_type": "markdown",
   "metadata": {},
   "source": [
    "## === Setup ==="
   ]
  },
  {
   "cell_type": "markdown",
   "metadata": {},
   "source": [
    "### Importing Libraries"
   ]
  },
  {
   "cell_type": "code",
   "execution_count": null,
   "metadata": {},
   "outputs": [],
   "source": [
    "import os\n",
    "import sys\n",
    "import pathlib \n",
    "import urllib3\n",
    "import datetime\n",
    "import minio\n",
    "import pandas\n",
    "import IPython.display\n",
    "import transformers\n",
    "\n",
    "sys.path.append(\"../source\")\n",
    "import document\n",
    "import data_preprocessing\n",
    "import transformer_model\n",
    "\n",
    "pandas.set_option(\"display.max_rows\", None)\n",
    "pandas.set_option(\"display.max_columns\", None)\n",
    "pandas.set_option(\"display.max_colwidth\", None)"
   ]
  },
  {
   "cell_type": "markdown",
   "metadata": {},
   "source": [
    "### Setting up the Data Preprocessor"
   ]
  },
  {
   "cell_type": "code",
   "execution_count": null,
   "metadata": {},
   "outputs": [],
   "source": [
    "sustainability_keywords = [\n",
    "    \"green\", \"environment\", \"carbon\", \"footprint\", \"co2\",  \"emission\", \"pollution\", \"recycle\", \"waste\", \"plant\", \"energy\", \"renewable\", \"water\", \"electricity\",\n",
    "    \"diversity\", \"employee\", \"women\", \"female\", \"human\", \"inclusion\", \"health\", \"safety\", \"security\",\n",
    "    # \"goal\", \"sustainable\", \"zero\", \"right\"\n",
    "    ]\n",
    "data_preprocessor = data_preprocessing.DataPreprocessing()"
   ]
  },
  {
   "cell_type": "markdown",
   "metadata": {},
   "source": [
    "### Loading Our Sustainability Objective Detection Model"
   ]
  },
  {
   "cell_type": "code",
   "execution_count": null,
   "metadata": {},
   "outputs": [],
   "source": [
    "model = transformer_model.TransformerModel(name=\"climatebert/environmental-claims\", load_from=\"../models/climatebert/environmental-claims\")\n",
    "pipe = model.load_pipeline()"
   ]
  },
  {
   "cell_type": "markdown",
   "metadata": {},
   "source": [
    "## === Processing New Sustainability Reports ==="
   ]
  },
  {
   "cell_type": "markdown",
   "metadata": {},
   "source": [
    "### Loading the Sustainability Report"
   ]
  },
  {
   "cell_type": "code",
   "execution_count": null,
   "metadata": {},
   "outputs": [],
   "source": [
    "url = \"https://sustainability.aboutamazon.com/pdfBuilderDownload?name=sustainability-thinking-big-december-2019\"\n",
    "IPython.display.IFrame(url, width=1000, height=800)"
   ]
  },
  {
   "cell_type": "markdown",
   "metadata": {},
   "source": [
    "### Running the Model on the New Sustainability Report"
   ]
  },
  {
   "cell_type": "code",
   "execution_count": null,
   "metadata": {},
   "outputs": [],
   "source": [
    "doc = document.Document(url)\n",
    "doc.content_type = \"pdf\"\n",
    "content = doc.request_url()\n",
    "parsed_content = doc.parse_content(content)\n",
    "text_blocks = doc.segment_text(parsed_content)\n",
    "tdf = pandas.DataFrame({\"URL\": url, \"Text Blocks\": text_blocks, \"Original Text Blocks\": text_blocks})\n",
    "\n",
    "tdf = data_preprocessor.clean_text_blocks(tdf, \"Text Blocks\", level=\"minimal\")\n",
    "tdf = data_preprocessor.filter_text_blocks(tdf, \"Text Blocks\", keep_only_size=(0, 300), keep_only_keywords=sustainability_keywords)\n",
    "\n",
    "predictions = pipe(tdf[\"Text Blocks\"].tolist())\n",
    "tdf[\"Goal Score\"] = [p[1][\"score\"] for p in predictions]\n",
    "tdf = tdf.drop([\"Text Blocks\"], axis=1)\n",
    "tdf = tdf.sort_values(\"Goal Score\", ascending=False)\n",
    "tdf.head(20)"
   ]
  },
  {
   "cell_type": "code",
   "execution_count": null,
   "metadata": {},
   "outputs": [],
   "source": []
  }
 ],
 "metadata": {
  "kernelspec": {
   "display_name": "newenv",
   "language": "python",
   "name": "newenv"
  },
  "language_info": {
   "codemirror_mode": {
    "name": "ipython",
    "version": 3
   },
   "file_extension": ".py",
   "mimetype": "text/x-python",
   "name": "python",
   "nbconvert_exporter": "python",
   "pygments_lexer": "ipython3",
   "version": "3.8.16"
  }
 },
 "nbformat": 4,
 "nbformat_minor": 4
}
