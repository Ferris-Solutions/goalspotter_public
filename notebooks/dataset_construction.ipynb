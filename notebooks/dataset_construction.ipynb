{
 "cells": [
  {
   "cell_type": "markdown",
   "metadata": {},
   "source": [
    "# Dataset Construction"
   ]
  },
  {
   "cell_type": "markdown",
   "metadata": {},
   "source": [
    "## === Setup ==="
   ]
  },
  {
   "cell_type": "markdown",
   "metadata": {},
   "source": [
    "### Importing Libraries"
   ]
  },
  {
   "cell_type": "code",
   "execution_count": null,
   "metadata": {},
   "outputs": [],
   "source": [
    "import os\n",
    "import io\n",
    "import sys\n",
    "import hashlib\n",
    "import urllib3\n",
    "import datetime\n",
    "import urllib.parse\n",
    "\n",
    "import minio\n",
    "import pandas\n",
    "\n",
    "sys.path.append(\"../source\")\n",
    "import document\n",
    "\n",
    "pandas.set_option(\"display.max_rows\", None)\n",
    "pandas.set_option(\"display.max_columns\", None)\n",
    "pandas.set_option(\"display.max_colwidth\", None)"
   ]
  },
  {
   "cell_type": "markdown",
   "metadata": {},
   "source": [
    "### Connecting to Minio"
   ]
  },
  {
   "cell_type": "code",
   "execution_count": null,
   "metadata": {},
   "outputs": [],
   "source": [
    "client = ..."
   ]
  },
  {
   "cell_type": "markdown",
   "metadata": {},
   "source": [
    "### Downloading Annotations"
   ]
  },
  {
   "cell_type": "code",
   "execution_count": null,
   "metadata": {},
   "outputs": [],
   "source": [
    "dataset_folder = \"../datasets\"\n",
    "if not os.path.exists(dataset_folder):\n",
    "    os.mkdir(dataset_folder) \n",
    "\n",
    "file_path = os.path.join(dataset_folder, \"annotations.csv\")\n",
    "client.fget_object(\"esg-claims\", \"master_edits.csv\", file_path)\n",
    "adf = pandas.read_csv(file_path)\n",
    "adf = adf.drop(0)\n",
    "adf = adf.dropna(subset=[\"admin_link\", \"Goal\"])\n",
    "print(adf.shape)\n",
    "adf.head(2)"
   ]
  },
  {
   "cell_type": "markdown",
   "metadata": {},
   "source": [
    "## === Extracting and Labeling Text Blocks from URLs of Sustainability Reports ==="
   ]
  },
  {
   "cell_type": "code",
   "execution_count": null,
   "metadata": {},
   "outputs": [],
   "source": [
    "result_folder = \"../training-text-blocks\"\n",
    "if not os.path.exists(result_folder):\n",
    "    os.mkdir(result_folder) \n",
    "\n",
    "urls = adf[\"admin_link\"].unique()\n",
    "processed_urls = {f: True for f in os.listdir(result_folder)}\n",
    "\n",
    "for i, url in enumerate(urls):\n",
    "    \n",
    "    if i % 30 == 0:\n",
    "        print(f\"Processing URL {i} / {len(urls)} ({int(100 * i / len(urls))}%): {url}\")\n",
    "    \n",
    "    file_name = hashlib.sha1(url.encode(\"utf-8\")).hexdigest()\n",
    "    if file_name in processed_urls:\n",
    "        continue\n",
    "    \n",
    "    try:\n",
    "        annotated_goals = adf[adf[\"admin_link\"] == url][\"Goal\"].unique()\n",
    "        doc = document.Document(url, annotations=annotated_goals)\n",
    "        content = doc.request_url()\n",
    "        parsed_content = doc.parse_content(content)\n",
    "        text_blocks = doc.segment_text(parsed_content)\n",
    "        labeled_text_blocks = doc.label_text_blocks(text_blocks)\n",
    "        labeled_text_blocks.to_csv(os.path.join(result_folder, file_name), index=False)\n",
    "    except:\n",
    "        # print(f\"Cannot process the URL: {url}\")\n",
    "        open(os.path.join(result_folder, file_name), \"w\").close()    "
   ]
  },
  {
   "cell_type": "markdown",
   "metadata": {},
   "source": [
    "## === Post-Processing Text Blocks ==="
   ]
  },
  {
   "cell_type": "code",
   "execution_count": null,
   "metadata": {},
   "outputs": [],
   "source": [
    "results = [f for f in os.listdir(result_folder) if os.path.getsize(os.path.join(result_folder, f)) > 0]\n",
    "print(f\"{len(results)} URLs are stored.\")\n",
    "\n",
    "dataset = None\n",
    "for i, file_name in enumerate(results):\n",
    "    \n",
    "    if i % 30 == 0:\n",
    "        print(f\"Processing URL {i} / {len(results)} ({int(100 * i / len(results))}%)\")\n",
    "    \n",
    "    rdf = pandas.read_csv(os.path.join(result_folder, file_name))\n",
    "    if rdf.empty:\n",
    "        continue\n",
    "    \n",
    "    if rdf[\"Goal\"].sum() <= 0:\n",
    "        continue\n",
    "    \n",
    "    if dataset is None:\n",
    "        dataset = rdf\n",
    "    else:\n",
    "        dataset = pandas.concat([dataset, rdf])\n",
    "\n",
    "print(\"Dataset Size:\", dataset.shape)\n",
    "print(\"The Number of Goals:\", dataset[\"Goal\"].sum())\n",
    "dataset_path = os.path.join(dataset_folder, \"sustainability_goals.csv\")\n",
    "dataset.to_csv(dataset_path, index=False)    "
   ]
  },
  {
   "cell_type": "code",
   "execution_count": null,
   "metadata": {},
   "outputs": [],
   "source": []
  }
 ],
 "metadata": {
  "kernelspec": {
   "display_name": "newenv",
   "language": "python",
   "name": "newenv"
  },
  "language_info": {
   "codemirror_mode": {
    "name": "ipython",
    "version": 3
   },
   "file_extension": ".py",
   "mimetype": "text/x-python",
   "name": "python",
   "nbconvert_exporter": "python",
   "pygments_lexer": "ipython3",
   "version": "3.8.16"
  }
 },
 "nbformat": 4,
 "nbformat_minor": 5
}
