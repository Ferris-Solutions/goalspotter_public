{
 "cells": [
  {
   "cell_type": "markdown",
   "metadata": {},
   "source": [
    "# Deployment"
   ]
  },
  {
   "cell_type": "markdown",
   "metadata": {},
   "source": [
    "## === Setup ==="
   ]
  },
  {
   "cell_type": "markdown",
   "metadata": {},
   "source": [
    "### Importing Libraries"
   ]
  },
  {
   "cell_type": "code",
   "execution_count": null,
   "metadata": {},
   "outputs": [],
   "source": [
    "import os\n",
    "import sys\n",
    "import pathlib \n",
    "import urllib3\n",
    "import datetime\n",
    "import minio\n",
    "import pandas\n",
    "\n",
    "sys.path.append(\"../source\")\n",
    "import document\n",
    "import data_preprocessing\n",
    "import transformer_model\n",
    "\n",
    "pandas.set_option(\"display.max_rows\", None)\n",
    "pandas.set_option(\"display.max_columns\", None)\n",
    "pandas.set_option(\"display.max_colwidth\", None)"
   ]
  },
  {
   "cell_type": "markdown",
   "metadata": {},
   "source": [
    "### Connecting to Minio"
   ]
  },
  {
   "cell_type": "code",
   "execution_count": null,
   "metadata": {},
   "outputs": [],
   "source": [
    "..."
   ]
  },
  {
   "cell_type": "markdown",
   "metadata": {},
   "source": [
    "### Setting up the Data Preprocessor"
   ]
  },
  {
   "cell_type": "code",
   "execution_count": null,
   "metadata": {},
   "outputs": [],
   "source": [
    "sustainability_keywords = [\n",
    "    \"green\", \"environment\", \"carbon\", \"footprint\", \"co2\",  \"emission\", \"pollution\", \"recycle\", \"waste\", \"plant\", \"energy\", \"renewable\", \"water\", \"electricity\",\n",
    "    \"diversity\", \"employee\", \"women\", \"female\", \"human\", \"inclusion\", \"health\", \"safety\", \"security\",\n",
    "    # \"goal\", \"sustainable\", \"zero\", \"right\"\n",
    "    ]\n",
    "\n",
    "data_preprocessor = data_preprocessing.DataPreprocessing()"
   ]
  },
  {
   "cell_type": "markdown",
   "metadata": {},
   "source": [
    "### Loading Our Trained Models"
   ]
  },
  {
   "cell_type": "code",
   "execution_count": null,
   "metadata": {},
   "outputs": [],
   "source": [
    "target_values = [\"Not Goal\", \"Goal\"]\n",
    "goal_detection_model = transformer_model.TextClassification(target_values, name=\"climatebert/environmental-claims\", \n",
    "                                                            load_from=\"../models/goal-detection/climatebert/environmental-claims\")"
   ]
  },
  {
   "cell_type": "markdown",
   "metadata": {},
   "source": [
    "## === Processing New Sustainability Reports ==="
   ]
  },
  {
   "cell_type": "code",
   "execution_count": null,
   "metadata": {},
   "outputs": [],
   "source": [
    "objects = client.list_objects(\"esg-next-gen\", prefix=\"questions_app/firm/\", recursive=True)\n",
    "for i, obj in enumerate(objects):\n",
    "\n",
    "    source_file_path = obj.object_name\n",
    "    result_file_path = os.path.join(\"../extracted-sustainability-objectives\", obj.object_name[:-3] + \"csv\")\n",
    "    result_folder_path = os.path.dirname(result_file_path)\n",
    "           \n",
    "    if os.path.exists(result_file_path):\n",
    "        continue\n",
    "\n",
    "    _, extension = os.path.splitext(source_file_path.lower())\n",
    "    extension = extension.strip(\".\")\n",
    "    if extension in [\"pdf\", \"html\"]:\n",
    "                \n",
    "        client.fget_object(\"esg-next-gen\", source_file_path, \"temp_file\")\n",
    "\n",
    "        try:\n",
    "            \n",
    "            doc = document.Document(\"temp_file\")\n",
    "            doc.content_type = extension\n",
    "            content = doc.read_local_file()           \n",
    "            parsed_content = doc.parse_content(content)\n",
    "            text_blocks = doc.segment_text(parsed_content)\n",
    "            tdf = pandas.DataFrame({\"File\": source_file_path, \"Text Blocks\": text_blocks})\n",
    "\n",
    "            tdf[\"text\"] = tdf[\"Text Blocks\"].copy()\n",
    "            #tdf = data_preprocessor.clean_text_blocks(tdf, \"text\", level=\"essential\")\n",
    "            tdf = data_preprocessor.filter_text_blocks(tdf, \"text\", keep_only_size=(0, 300))\n",
    "            predictions = goal_detection_model.predict(tdf[\"text\"].tolist())\n",
    "            tdf[\"Goal Score\"] = predictions[\"Goal\"].values\n",
    "            tdf = tdf.drop([\"text\"], axis=1)\n",
    "\n",
    "        except:\n",
    "            print(f\"Cannot process {obj.object_name}.\")\n",
    "            continue\n",
    "    \n",
    "    else:\n",
    "        continue\n",
    "    \n",
    "    output_dir = pathlib.Path(result_folder_path)\n",
    "    output_dir.mkdir(parents=True, exist_ok=True)\n",
    "    tdf.to_csv(result_file_path, index=False)\n",
    "    \n",
    "    if i % 10 == 0:\n",
    "        print(f\"{i} documents have been processed.\")"
   ]
  },
  {
   "cell_type": "markdown",
   "metadata": {},
   "source": [
    "## === Post-Processing the Results ==="
   ]
  },
  {
   "cell_type": "code",
   "execution_count": null,
   "metadata": {},
   "outputs": [],
   "source": [
    "df_all = None\n",
    "for root, dirs, files in os.walk(\"../extracted-sustainability-objectives\"):\n",
    "    for file_name in files:\n",
    "        file_path = os.path.join(root, file_name)\n",
    "        if not file_path.endswith(\"csv\"):\n",
    "            continue       \n",
    "        rdf = pandas.read_csv(file_path)\n",
    "        rdf[\"Company\"] = root.split(\"/\")[-1]\n",
    "        if df_all is None:\n",
    "            df_all = rdf\n",
    "        else:\n",
    "            df_all = pandas.concat([df_all, rdf])\n",
    "\n",
    "print(df_all.shape)\n",
    "print(df_all[\"Company\"].nunique())\n",
    "print(df_all[\"File\"].nunique())\n",
    "df_all.head()"
   ]
  },
  {
   "cell_type": "code",
   "execution_count": null,
   "metadata": {},
   "outputs": [],
   "source": [
    "df_goals = df_all[df_all[\"Goal Score\"] >= 0.5]\n",
    "df_goals = df_goals.sort_values(\"Goal Score\", ascending=False)\n",
    "# df_goals.to_csv(\"../datasets/extracted_sustainability_objectives.csv\", index=False)\n",
    "print(df_goals.shape)\n",
    "print(df_goals[\"Company\"].nunique())\n",
    "print(df_goals[\"File\"].nunique())\n",
    "df_goals.head()"
   ]
  },
  {
   "cell_type": "code",
   "execution_count": null,
   "metadata": {},
   "outputs": [],
   "source": []
  }
 ],
 "metadata": {
  "kernelspec": {
   "display_name": "newenv",
   "language": "python",
   "name": "newenv"
  },
  "language_info": {
   "codemirror_mode": {
    "name": "ipython",
    "version": 3
   },
   "file_extension": ".py",
   "mimetype": "text/x-python",
   "name": "python",
   "nbconvert_exporter": "python",
   "pygments_lexer": "ipython3",
   "version": "3.8.16"
  }
 },
 "nbformat": 4,
 "nbformat_minor": 4
}
